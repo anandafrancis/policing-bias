{
 "cells": [
  {
   "cell_type": "markdown",
   "id": "19efe83b",
   "metadata": {},
   "source": [
    "## Intialize"
   ]
  },
  {
   "cell_type": "code",
   "execution_count": 1,
   "id": "de85d092",
   "metadata": {},
   "outputs": [],
   "source": [
    "# import necessary libraries\n",
    "import pandas as pd\n",
    "from collections import Counter \n",
    "from datetime import datetime"
   ]
  },
  {
   "cell_type": "markdown",
   "id": "ec83a0d5",
   "metadata": {},
   "source": [
    "## Functions"
   ]
  },
  {
   "cell_type": "code",
   "execution_count": 2,
   "id": "c4584233",
   "metadata": {},
   "outputs": [],
   "source": [
    "def getDistrict(refData, street, month, day):\n",
    "    \n",
    "    # exact match\n",
    "    districts = refData[(refData.STREET == street) & (refData.MONTH == month) & (refData.DAY == day)].DISTRICT\n",
    "    \n",
    "    if len(set(districts)) == 1:\n",
    "        bestMatch = districts.iloc[0]\n",
    "    \n",
    "    elif len(set(districts)) == 0:\n",
    "             newMatches = refData[(refData.STREET == street) & (refData.MONTH == month)].DISTRICT\n",
    "             \n",
    "             if len(set(newMatches)) == 1:\n",
    "                 bestMatch = newMatches.iloc[0]\n",
    "             \n",
    "             elif len(set(newMatches)) == 0:\n",
    "                 finalMatches = refData[(refData.STREET == street)].DISTRICT\n",
    "             \n",
    "                 if len(set(finalMatches)) == 1:\n",
    "                     bestMatch = finalMatches.iloc[0]\n",
    "\n",
    "                 elif len(set(finalMatches)) == 0:\n",
    "                     bestMatch = 'Unknown District'\n",
    "\n",
    "                 else:\n",
    "                     finalFreq = Counter(finalMatches)\n",
    "                     bestMatch = finalFreq.most_common(1)[0][0]\n",
    "             \n",
    "             else:\n",
    "                 newFreq = Counter(newMatches)\n",
    "                 bestMatch = newFreq.most_common(1)[0][0]\n",
    "             \n",
    "    else:\n",
    "        freq = Counter(districts)\n",
    "        bestMatch = freq.most_common(1)[0][0]\n",
    "        \n",
    "    \n",
    "    return bestMatch"
   ]
  },
  {
   "cell_type": "code",
   "execution_count": 3,
   "id": "b4a03da0",
   "metadata": {},
   "outputs": [],
   "source": [
    "def getDate(dateStr):\n",
    "    \n",
    "    date_obj = datetime.strptime(dateStr, '%Y-%m-%d %H:%M:%S')\n",
    "\n",
    "    # Extract the year, month, and day\n",
    "    year = date_obj.year\n",
    "    month = date_obj.month\n",
    "    day = date_obj.day\n",
    "    hour = date_obj.hour\n",
    "\n",
    "    return (year, month, day, hour)"
   ]
  },
  {
   "cell_type": "markdown",
   "id": "a7f585f5",
   "metadata": {},
   "source": [
    "## Preparing Crimes Data"
   ]
  },
  {
   "cell_type": "code",
   "execution_count": 4,
   "id": "0f7bf86c",
   "metadata": {},
   "outputs": [],
   "source": [
    "# load data\n",
    "crimes = pd.read_csv('crimes.csv', low_memory=False)"
   ]
  },
  {
   "cell_type": "code",
   "execution_count": 5,
   "id": "19f56a76",
   "metadata": {},
   "outputs": [],
   "source": [
    "# get the day of the month for each crime\n",
    "crimes['DAY'] = crimes['OCCURRED_ON_DATE'].apply(lambda x: getDate(x)[2])"
   ]
  },
  {
   "cell_type": "code",
   "execution_count": 6,
   "id": "0ed51db2",
   "metadata": {},
   "outputs": [],
   "source": [
    "# replace weekday categorical variables with 2 binary variables\n",
    "days = {'Sunday': [0, 1], 'Monday': [1, 0], 'Tuesday': [2, 0], 'Wednesday': [3, 0], 'Thursday': [4, 0],\n",
    "       'Friday': [5, 1], 'Saturday': [6, 1]}\n",
    "\n",
    "crimes['WEEKDAY'] = crimes['DAY_OF_WEEK'].apply(lambda x: days[x][0])\n",
    "crimes['WEEKEND'] = crimes['DAY_OF_WEEK'].apply(lambda x: days[x][1])"
   ]
  },
  {
   "cell_type": "code",
   "execution_count": 7,
   "id": "71e5e225",
   "metadata": {},
   "outputs": [],
   "source": [
    "# do one hot encoding for types of crimes\n",
    "oneHotCrime = pd.get_dummies(crimes['OFFENSE_DESCRIPTION'])"
   ]
  },
  {
   "cell_type": "code",
   "execution_count": 8,
   "id": "0623bbbc",
   "metadata": {},
   "outputs": [],
   "source": [
    "# determine which columns i need\n",
    "cCols = [\n",
    " 'DISTRICT',\n",
    " 'SHOOTING',\n",
    " 'MONTH',\n",
    " 'WEEKDAY',\n",
    " 'WEEKEND',\n",
    " 'HOUR',\n",
    " 'DAY']"
   ]
  },
  {
   "cell_type": "code",
   "execution_count": 9,
   "id": "29831da6",
   "metadata": {},
   "outputs": [],
   "source": [
    "# create sub-dfs with only essential columns\n",
    "finalCrimes = crimes[cCols].join(oneHotCrime)"
   ]
  },
  {
   "cell_type": "code",
   "execution_count": 10,
   "id": "dd2c394e",
   "metadata": {},
   "outputs": [],
   "source": [
    "# create comprehensive dataframe\n",
    "crCompCols = ['OFFENSE_DESCRIPTION'] + cCols\n",
    "crCompCols.remove('WEEKDAY')\n",
    "crimesComp = crimes[crCompCols]"
   ]
  },
  {
   "cell_type": "markdown",
   "id": "ca7c905a",
   "metadata": {},
   "source": [
    "## Preparing Field Contact Data"
   ]
  },
  {
   "cell_type": "code",
   "execution_count": 11,
   "id": "71f375d0",
   "metadata": {},
   "outputs": [],
   "source": [
    "# load data\n",
    "fieldC = pd.read_csv('fieldContact.csv')\n",
    "fieldCN = pd.read_csv('fieldContactName.csv')"
   ]
  },
  {
   "cell_type": "code",
   "execution_count": 12,
   "id": "34d71f56",
   "metadata": {},
   "outputs": [],
   "source": [
    "# get time variables for the field contact per officer incident\n",
    "fieldC['year'] = fieldC['contact_date'].apply(lambda x: getDate(x)[0])\n",
    "fieldC['month'] = fieldC['contact_date'].apply(lambda x: getDate(x)[1])\n",
    "fieldC['day'] = fieldC['contact_date'].apply(lambda x: getDate(x)[2])\n",
    "fieldC['hour'] = fieldC['contact_date'].apply(lambda x: getDate(x)[3])"
   ]
  },
  {
   "cell_type": "code",
   "execution_count": 13,
   "id": "1360acdf",
   "metadata": {},
   "outputs": [],
   "source": [
    "# get districts from streets\n",
    "fieldC = fieldC.dropna(subset=['street'])\n",
    "fieldC['district'] = fieldC.apply(lambda x: getDistrict(crimes, x['street'], x['month'], x['day']), axis=1)"
   ]
  },
  {
   "cell_type": "code",
   "execution_count": 14,
   "id": "5f56d4a7",
   "metadata": {},
   "outputs": [],
   "source": [
    "# add contact hour to fieldCN data\n",
    "fieldCN['properDate'] = fieldCN['contact_date'].apply(lambda x: x.split('.')[0])\n",
    "fieldCN['contactHour'] = fieldCN['properDate'].apply(lambda x: getDate(x)[3])"
   ]
  },
  {
   "cell_type": "code",
   "execution_count": 15,
   "id": "4ed3201b",
   "metadata": {},
   "outputs": [],
   "source": [
    "# create one hot encoding dataframes for categorical variables of fieldCN\n",
    "oneHotSex = pd.get_dummies(fieldCN['sex'])\n",
    "oneHotRace = pd.get_dummies(fieldCN['race'])\n",
    "oneHotBuild = pd.get_dummies(fieldCN['build'])\n",
    "oneHotHair = pd.get_dummies(fieldCN['hair_style'])\n",
    "oneHotEth = pd.get_dummies(fieldCN['ethnicity'])\n",
    "oneHotSkin = pd.get_dummies(fieldCN['skin_tone'])"
   ]
  },
  {
   "cell_type": "code",
   "execution_count": 16,
   "id": "ffa69a02",
   "metadata": {},
   "outputs": [],
   "source": [
    "# change columns names so there are no duplicate columns\n",
    "oneHotSex = oneHotSex.rename(columns={'Unknown': 'Unknown Sex'})\n",
    "oneHotRace = oneHotRace.rename(columns={'Unknown': 'Unknown Race', 'Other':'OtherRace'})\n",
    "oneHotBuild = oneHotBuild.rename(columns={'Unknown': 'Unknown Build'})\n",
    "oneHotHair = oneHotHair.rename(columns={'Unknown': 'Unknown Hair', 'Other':'OtherHair'})\n",
    "oneHotEth = oneHotEth.rename(columns={'Unknown': 'Unknown Ethnicity'})\n",
    "oneHotSkin = oneHotSkin.rename(columns={'Unknown': 'Unknown Skin Color', 'OTHER':'Other Skin Color', 'Black': 'Black Skin Color',\n",
    "                                       'Medium': 'Medium Skin Color'})\n"
   ]
  },
  {
   "cell_type": "code",
   "execution_count": 17,
   "id": "ed6e179d",
   "metadata": {},
   "outputs": [],
   "source": [
    "# create one hot encodings for categorical variabled of fieldC\n",
    "oneHotCirc = pd.get_dummies(fieldC['circumstance'])\n",
    "oneHotBasis = pd.get_dummies(fieldC['basis'])\n",
    "oneHotVehMod = pd.get_dummies(fieldC['vehicle_model'])\n",
    "oneHotVehSty = pd.get_dummies(fieldC['vehicle_style'])\n",
    "oneHotVehTyp = pd.get_dummies(fieldC['vehicle_type'])\n",
    "oneHotSit = pd.get_dummies(fieldC['weather'])"
   ]
  },
  {
   "cell_type": "code",
   "execution_count": 18,
   "id": "c9f77c12",
   "metadata": {},
   "outputs": [],
   "source": [
    "# change columns names so there are no duplicate columns\n",
    "oneHotVehMod = oneHotVehMod.rename(columns={'OTHER': 'Other Vehicle Model'})\n",
    "oneHotVehSty = oneHotVehSty.rename(columns={'Other': 'Other Vehicle Style', 'Van': 'Van (Style)'})\n",
    "oneHotSit = oneHotSit.drop(columns=['Encounter', 'Intel', 'Probable Cause', 'Reasonable Suspicion '])"
   ]
  },
  {
   "cell_type": "code",
   "execution_count": 19,
   "id": "a17763a4",
   "metadata": {},
   "outputs": [],
   "source": [
    "# determine columns I need from each df\n",
    "fcnCols = [\n",
    " 'fc_num',\n",
    " 'age',\n",
    " 'was_frisked',\n",
    " 'contactHour'\n",
    "]\n",
    "\n",
    "fcCols = ['fc_num',\n",
    "          'contact_officer_name',\n",
    "          'supervisor_name',\n",
    "         'city',\n",
    "         'zip',\n",
    "         'stop_duration',\n",
    "         'month',\n",
    "         'day',\n",
    "         'hour',\n",
    "         'district',\n",
    "         'contact_reason'\n",
    "         ]"
   ]
  },
  {
   "cell_type": "code",
   "execution_count": 20,
   "id": "879f6068",
   "metadata": {},
   "outputs": [],
   "source": [
    "# create sub-df with only essential columns\n",
    "finalFC = fieldC[fcCols]\n",
    "finalFCN = fieldCN[fcnCols].merge(finalFC, on='fc_num', how='left')"
   ]
  },
  {
   "cell_type": "code",
   "execution_count": 21,
   "id": "b956f95b",
   "metadata": {},
   "outputs": [],
   "source": [
    "# join one hot encoding dfs and main df together\n",
    "fieldOH = finalFCN.join(oneHotSex)\n",
    "fieldOH = fieldOH.join(oneHotRace)\n",
    "fieldOH = fieldOH.join(oneHotBuild)\n",
    "fieldOH = fieldOH.join(oneHotHair)\n",
    "fieldOH = fieldOH.join(oneHotEth)\n",
    "fieldOH = fieldOH.join(oneHotSkin)\n",
    "\n",
    "fieldOH = fieldOH.join(oneHotCirc)\n",
    "\n",
    "fieldOH = fieldOH.join(oneHotBasis)\n",
    "\n",
    "fieldOH = fieldOH.join(oneHotVehMod)\n",
    "\n",
    "fieldOH = fieldOH.join(oneHotVehSty)\n",
    "\n",
    "fieldOH = fieldOH.join(oneHotVehTyp)\n",
    "\n",
    "fieldOH = fieldOH.join(oneHotSit)"
   ]
  },
  {
   "cell_type": "code",
   "execution_count": 22,
   "id": "9769b6a0",
   "metadata": {},
   "outputs": [],
   "source": [
    "# create comprehensive dataframe\n",
    "fcnCompCols = ['sex', 'race', 'build', 'hair_style', 'ethnicity', 'skin_tone'] + fcnCols\n",
    "fcCompCols = ['circumstance', 'basis', 'vehicle_model', 'vehicle_style', 'vehicle_year', 'vehicle_type', \n",
    "              'weather', 'vehicle_state', ] + fcCols\n",
    "\n",
    "fcnComp = fieldCN[fcnCompCols]\n",
    "fcComp = fieldC[fcCompCols]\n",
    "fieldComp = fcnComp.merge(fcComp, on='fc_num', how='left')"
   ]
  },
  {
   "cell_type": "markdown",
   "id": "631a8f38",
   "metadata": {},
   "source": [
    "## Preparing Shooting Data"
   ]
  },
  {
   "cell_type": "code",
   "execution_count": 23,
   "id": "25ab30c6",
   "metadata": {},
   "outputs": [],
   "source": [
    "# load data\n",
    "shooting = pd.read_csv('shootings.csv')\n",
    "shots = pd.read_csv('shotsFired.csv')"
   ]
  },
  {
   "cell_type": "code",
   "execution_count": 24,
   "id": "f1447818",
   "metadata": {},
   "outputs": [],
   "source": [
    "# only get 2022 data for shootings\n",
    "shooting = shooting[shooting['shooting_date'].str.contains('2022')]"
   ]
  },
  {
   "cell_type": "code",
   "execution_count": 25,
   "id": "9dfa3985",
   "metadata": {},
   "outputs": [],
   "source": [
    "# create new column that uses binary values for if there were multiple victims\n",
    "MV = {'f': 0, 't': 1}\n",
    "shooting['victim_plural'] = shooting['multi_victim'].apply(lambda x: MV[x])"
   ]
  },
  {
   "cell_type": "code",
   "execution_count": 26,
   "id": "01a46fd9",
   "metadata": {},
   "outputs": [],
   "source": [
    "# get time variables for shooting occurence\n",
    "shooting['date'] = shooting['shooting_date'].apply(lambda x: x.split('+')[0])\n",
    "shooting['year'] = shooting['date'].apply(lambda x: getDate(x)[0])\n",
    "shooting['month'] = shooting['date'].apply(lambda x: getDate(x)[1])\n",
    "shooting['day'] = shooting['date'].apply(lambda x: getDate(x)[2])\n",
    "shooting['hour'] = shooting['date'].apply(lambda x: getDate(x)[3])"
   ]
  },
  {
   "cell_type": "code",
   "execution_count": 27,
   "id": "61a506f9",
   "metadata": {},
   "outputs": [],
   "source": [
    "# create one hot encoding dfs for categorical variables\n",
    "oneHotDeath = pd.get_dummies(shooting['shooting_type_v2'])\n",
    "oneHotGen = pd.get_dummies(shooting['victim_gender'])\n",
    "oneHotVRace = pd.get_dummies(shooting['victim_race'])\n",
    "oneHotVEth = pd.get_dummies(shooting['victim_ethnicity_NIBRS'])"
   ]
  },
  {
   "cell_type": "code",
   "execution_count": 28,
   "id": "aa46b8a0",
   "metadata": {},
   "outputs": [],
   "source": [
    "# change columns names so there are no duplicate columns\n",
    "oneHotDeath = oneHotDeath.drop(columns=['Non-Fatal'])\n",
    "oneHotVRace = oneHotVRace.rename(columns={'Unknown': 'Unknown Race'})\n",
    "oneHotVEth = oneHotVEth.rename(columns={'Unknown': 'Unknown Ethnicity'})"
   ]
  },
  {
   "cell_type": "code",
   "execution_count": 29,
   "id": "eeb70847",
   "metadata": {},
   "outputs": [],
   "source": [
    "# determine columns I need from each df\n",
    "sCols = [\n",
    " 'district',\n",
    " 'victim_plural',\n",
    " 'month',\n",
    " 'day',\n",
    " 'hour']"
   ]
  },
  {
   "cell_type": "code",
   "execution_count": 30,
   "id": "637cf2d0",
   "metadata": {},
   "outputs": [],
   "source": [
    "# create sub-df with only essential columns\n",
    "finalSh = shooting[sCols]"
   ]
  },
  {
   "cell_type": "code",
   "execution_count": 31,
   "id": "14891f57",
   "metadata": {},
   "outputs": [],
   "source": [
    "# join one hot encoding dfs and main df together\n",
    "shootingOH = finalSh.join(oneHotDeath)\n",
    "shootingOH = shootingOH.join(oneHotGen)\n",
    "shootingOH = shootingOH.join(oneHotVRace)\n",
    "shootingOH = shootingOH.join(oneHotVEth)"
   ]
  },
  {
   "cell_type": "code",
   "execution_count": 32,
   "id": "44fa592f",
   "metadata": {},
   "outputs": [],
   "source": [
    "# create comprehensive dataframe\n",
    "shCompCols = ['shooting_type_v2', 'victim_gender', 'victim_race', 'victim_ethnicity_NIBRS'] + sCols\n",
    "\n",
    "shootingComp = shooting[shCompCols]"
   ]
  },
  {
   "cell_type": "markdown",
   "id": "7019811d",
   "metadata": {},
   "source": [
    "## Save One Hot Encoding Data"
   ]
  },
  {
   "cell_type": "code",
   "execution_count": 33,
   "id": "58c596be",
   "metadata": {},
   "outputs": [],
   "source": [
    "# make all df cols lowercase\n",
    "finalCrimes.columns = finalCrimes.columns.str.lower()\n",
    "shootingOH.columns = shootingOH.columns.str.lower()\n",
    "fieldOH.columns = fieldOH.columns.str.lower()"
   ]
  },
  {
   "cell_type": "code",
   "execution_count": 34,
   "id": "fc4e8ce4",
   "metadata": {},
   "outputs": [],
   "source": [
    "# save all to csvs\n",
    "finalCrimes.to_csv('crimesOH.csv', index=False)\n",
    "shootingOH.to_csv('shootingOH.csv', index=False)\n",
    "fieldOH.to_csv('fieldOH.csv', index=False)"
   ]
  },
  {
   "cell_type": "markdown",
   "id": "474268d9",
   "metadata": {},
   "source": [
    "## Save Clean Comprehensive Data"
   ]
  },
  {
   "cell_type": "code",
   "execution_count": 35,
   "id": "9a2758c3",
   "metadata": {},
   "outputs": [],
   "source": [
    "# make all df cols lowercase\n",
    "shootingComp.columns = shootingComp.columns.str.lower()\n",
    "fieldComp.columns = fieldComp.columns.str.lower()\n",
    "crimesComp.columns = crimesComp.columns.str.lower()"
   ]
  },
  {
   "cell_type": "code",
   "execution_count": 36,
   "id": "4e507093",
   "metadata": {},
   "outputs": [],
   "source": [
    "shootingComp.to_csv('shootingComp.csv', index=False)\n",
    "fieldComp.to_csv('fieldComp.csv', index=False)\n",
    "crimesComp.to_csv('crimesComp.csv', index=False)"
   ]
  },
  {
   "cell_type": "markdown",
   "id": "cdba8a11",
   "metadata": {},
   "source": [
    "## Save Summary Data"
   ]
  },
  {
   "cell_type": "code",
   "execution_count": 37,
   "id": "035e0979",
   "metadata": {},
   "outputs": [],
   "source": [
    "shooting_count = shootingComp.groupby('district').count().reset_index()\n",
    "field_count = fieldComp.groupby('district').count().reset_index()\n",
    "crimes_count = crimesComp.groupby('district').count().reset_index()"
   ]
  },
  {
   "cell_type": "code",
   "execution_count": 38,
   "id": "d6e83d12",
   "metadata": {},
   "outputs": [],
   "source": [
    "summary = pd.DataFrame()\n",
    "summary['district'] = crimes_count['district']\n",
    "summary['shootings'] = shooting_count[['shooting_type_v2']]\n",
    "summary['crimes'] = crimes_count[['hour']]\n",
    "summary['fieldInt'] = field_count[['hour']]"
   ]
  },
  {
   "cell_type": "code",
   "execution_count": 39,
   "id": "b2a2720c",
   "metadata": {},
   "outputs": [],
   "source": [
    "summary.to_csv('summary.csv', index=False)"
   ]
  }
 ],
 "metadata": {
  "kernelspec": {
   "display_name": "Python 3",
   "language": "python",
   "name": "python3"
  },
  "language_info": {
   "codemirror_mode": {
    "name": "ipython",
    "version": 3
   },
   "file_extension": ".py",
   "mimetype": "text/x-python",
   "name": "python",
   "nbconvert_exporter": "python",
   "pygments_lexer": "ipython3",
   "version": "3.9.6"
  },
  "vscode": {
   "interpreter": {
    "hash": "31f2aee4e71d21fbe5cf8b01ff0e069b9275f58929596ceb00d14d90e3e16cd6"
   }
  }
 },
 "nbformat": 4,
 "nbformat_minor": 5
}
